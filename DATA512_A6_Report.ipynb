{
 "cells": [
  {
   "cell_type": "markdown",
   "metadata": {},
   "source": [
    "# A6 Final Project Report -- Gender Diversity in Movies"
   ]
  },
  {
   "cell_type": "markdown",
   "metadata": {},
   "source": [
    "### Submitted by : Vamsy Atluri"
   ]
  },
  {
   "cell_type": "markdown",
   "metadata": {},
   "source": [
    "## Introduction"
   ]
  },
  {
   "cell_type": "markdown",
   "metadata": {},
   "source": [
    "In today's world 2 of the most widely scrutinized sectors of our society are the movies and tech firms. While they are widely different fields and usually have no relation to each other, one area where they shread a common thread is gender diversity or more accurately the lack of it.\n",
    "\n",
    "The movie industry have been criticized for gender issues over the years. But the outroar is ususally limited to the most high profile movies and productions. But acting as a profession is not limited to just movies and just Hollywood. International movies, TV shows, short movies are also an important part of this industry. This project is an attempt to look just at the numbers and see how diverse are movies in terms of the gender of people playing roles on the screen.\n",
    "\n",
    "The results are then compared against diversity numbers released by 6 top tech companies (Facebook, Amazon, Apple, Microsoft and Google) for the year of 2017 to see how these two fields stack up. This comparison throws up some insights that are quite surprising and eye opening."
   ]
  },
  {
   "cell_type": "markdown",
   "metadata": {},
   "source": [
    "## Background"
   ]
  },
  {
   "cell_type": "markdown",
   "metadata": {},
   "source": [
    "When it comes to movies and gender, the Bechdel test is perhaps the most commonly known and accepted way of determining how much independent representation and interaction females have. This project, which looks only at the numbers of credited actors/actresses, is not that comprehensive and the results are not a conclusive indication of the full picture. But augmented with other inputs (like the bechdel test), my hope is it will help build a clearer picture. The core question being asked here is -- How gender diverse are movies solely in terms of actors on the screen? \n",
    "\n",
    "Under pressure for their lack of gender diversity, major companies in the tech sector have been releasing their workforce diversity information over the last few years showing how they have been improving their diversity over the years. But hiring a lot of females interns for the summer or junior employees is given the same weight as having a management structure full of males. I try to look into how these two fields' statisctics would compared if movies are afforded the same leeway as these tech firms.\n",
    "\n",
    "Once again, I am not proposing that is a very comprehensive analysis since first of all, it is restricted only to actors and actresses and not any other crew member. So the results of this analysis must be taken with a pinch of salt, while being open to interpretation."
   ]
  },
  {
   "cell_type": "markdown",
   "metadata": {},
   "source": [
    "## Data and Methods"
   ]
  },
  {
   "cell_type": "markdown",
   "metadata": {},
   "source": [
    "This project looks at gender diversity in movies over the past 118 years (1910-2018). The data used is provided by IMDB, and contains all the data on their website with respect to movies, release date, actors and actresses in the movie etc in the form on zipped tsv files. Due to the size being > 100MB, I have made a subset of the data available in the data folder of this repo as tsv files. These files can be used to reproduce the analyis done in this project.\n",
    "\n",
    "The most ideal case would have been to get gender related information about all the crew members who work on a movie, but IMDB does not store gender information about any person. The only way to identify actors vs. actresses is to depend on the lsiting which classifies them either as 'actor' or 'actress'. This was a potential roadblock both due to lack of non-binary gender representation and also lack of info for people working behind the scenes.\n",
    "\n",
    "But delving more in IMDB's policies, I realized that IMDB allows people to create their profile and add themselves to the credits of movies they acted in (subject to verification). And the most interesting thing was that it identifies them by their preferred gender. While not optimal, it seemed more ethical to work with this data because the gender information I would be getting about a person was not what IMDB chooses but what the person choose him/herself.\n",
    "\n",
    "Coming to the diversity data in tech companies, I manually read the diversity reports publicly published by the companies for the year of 2017 and stored these values in an array for the purposes of comparison.\n",
    "\n",
    "The overall number of records in the source data considered were 1.6M movies, 8.9M actors and actresses, and nearly 31M records of the crew details. A lot of this was filtered out to keep details of only actors and actresses, mainly because there is no gender information available for other crew members like directors, producers, cinematographers etc.\n",
    "\n",
    "The three major tables considered -- movie_title_details, actor_details and movie_crew_details. Python libraries pandas, numpy and matplotlib were used for data analysis and visualization. This section shows how to read the data, show the structures and columns of the tables, analyze the data and visualize the results."
   ]
  },
  {
   "cell_type": "markdown",
   "metadata": {},
   "source": [
    "#### Importing the necessary libraries, and setting the warnings to ignore"
   ]
  },
  {
   "cell_type": "code",
   "execution_count": 7,
   "metadata": {},
   "outputs": [],
   "source": [
    "import gzip\n",
    "import pandas as pd\n",
    "import numpy as np\n",
    "import matplotlib.pyplot as plt\n",
    "import warnings\n",
    "warnings.filterwarnings('ignore')"
   ]
  },
  {
   "cell_type": "markdown",
   "metadata": {},
   "source": [
    "#### Reading the data"
   ]
  },
  {
   "cell_type": "markdown",
   "metadata": {},
   "source": [
    "Each dataset is contained in a gzipped, tab-separated-values (TSV) formatted file in the UTF-8 character set. The first line in each file contains headers that describe what is in each column.\n",
    "\n",
    "Note: Using gzip.open is not necessary unless using the original data files from the IMDB website. **If using the tsv files from the 'data' folder in this repo use the command ```table = pd.read_table('file_path')``` where file_path is the local path of the tsv file in your system.**"
   ]
  },
  {
   "cell_type": "code",
   "execution_count": null,
   "metadata": {},
   "outputs": [],
   "source": [
    "movie_title_details = pd.read_table(gzip.open(\"title.basics.tsv.gz\"))\n",
    "actor_details = pd.read_table(gzip.open(\"name.basics.tsv.gz\"))\n",
    "movie_crew_details = pd.read_table(gzip.open(\"title.principals.tsv.gz\"))"
   ]
  },
  {
   "cell_type": "markdown",
   "metadata": {},
   "source": [
    "#### Dimensions of the data\n",
    "\n",
    "The ```.shape``` attribute gives us the dimensions of the tables as (number_of_rows,number_of_columns)."
   ]
  },
  {
   "cell_type": "code",
   "execution_count": null,
   "metadata": {},
   "outputs": [],
   "source": [
    "movie_title_details.shape"
   ]
  },
  {
   "cell_type": "markdown",
   "metadata": {},
   "source": [
    "As seen, there are 5,453,946 movies overall to consider."
   ]
  },
  {
   "cell_type": "code",
   "execution_count": null,
   "metadata": {},
   "outputs": [],
   "source": [
    "actor_details.shape"
   ]
  },
  {
   "cell_type": "markdown",
   "metadata": {},
   "source": [
    "As seen, there are 8,996,619 records about professionals registered on IMDB overall to consider.\n",
    "\n",
    "Note: I have named the dataframe as actors because they are the primary section am interested in. But the file ```name.basics.tsv``` contains the information for all the people irrespective of their primary occupation. The entries will be filtered out to include only actors/actresses."
   ]
  },
  {
   "cell_type": "code",
   "execution_count": null,
   "metadata": {},
   "outputs": [],
   "source": [
    "movie_crew_details.shape"
   ]
  },
  {
   "cell_type": "markdown",
   "metadata": {},
   "source": [
    "The ```title.principals.tsv``` lists all the related professionals credited for a particular movie. Essentially, it brings the previous two tables together. As seen, there are 31,132,240 such entries overall to consider."
   ]
  },
  {
   "cell_type": "markdown",
   "metadata": {},
   "source": [
    "#### Structure and details about the data"
   ]
  },
  {
   "cell_type": "markdown",
   "metadata": {},
   "source": [
    "The ```title.basics.tsv.gz``` file, which is stored in the ```mvoie_title_details``` dataframe lists all the movies in the IMDB database, along with the movie type, year (release year for movies, start and end year for TV shows), runtime and genres. \n",
    "\n",
    "While the title, genre etc. are not required for my analysis the ```tconst``` column which is an unique identifier for each movie and the year columns are the most relevant."
   ]
  },
  {
   "cell_type": "code",
   "execution_count": null,
   "metadata": {
    "scrolled": true
   },
   "outputs": [],
   "source": [
    "movie_title_details.head()"
   ]
  },
  {
   "cell_type": "markdown",
   "metadata": {},
   "source": [
    "Note :  A ‘\\N’ is used to denote that a particular field is missing for that title/name."
   ]
  },
  {
   "cell_type": "markdown",
   "metadata": {},
   "source": [
    "With regard to the ```actor_details``` dataframe, initially my idea was to use the primaryProfession column to filter only entries that have actor/actress as the first entry. Each entry has a unique identifier ```nconst```.\n",
    "\n",
    "But this table proved redundant since the ```movie_crew_details``` dataframe had a identifier that served the same purpose. As of now this table has not been used any further. But this table can be used in the future to do a more layered analysis since it has details about the ages of the professionals on IMDB."
   ]
  },
  {
   "cell_type": "code",
   "execution_count": null,
   "metadata": {},
   "outputs": [],
   "source": [
    "actor_details.head()"
   ]
  },
  {
   "cell_type": "markdown",
   "metadata": {},
   "source": [
    "As said earlier, the ```title.principals.tsv``` file brings the two other files above together by listing each movie and its crew as a list of entries with the unique identifiers tconst and nconst identifying each tuple."
   ]
  },
  {
   "cell_type": "code",
   "execution_count": null,
   "metadata": {},
   "outputs": [],
   "source": [
    "movie_crew_details.head()"
   ]
  },
  {
   "cell_type": "markdown",
   "metadata": {},
   "source": [
    "#### Data Cleaning and Filtering"
   ]
  },
  {
   "cell_type": "markdown",
   "metadata": {},
   "source": [
    "##### Movies -- A few decisions with regard to which titles to consider in this analysis:"
   ]
  },
  {
   "cell_type": "markdown",
   "metadata": {},
   "source": [
    "Titles with missing values for runtime were not considered."
   ]
  },
  {
   "cell_type": "code",
   "execution_count": null,
   "metadata": {},
   "outputs": [],
   "source": [
    "movie_title_details = movie_title_details[movie_title_details.runtimeMinutes != '\\\\N']"
   ]
  },
  {
   "cell_type": "markdown",
   "metadata": {},
   "source": [
    "Movies with runtime less than 20 mins were not considered. Most of the short movies and sit-com episodes were covered with this runtime. In this step we also create a ```new dataframe movies``` which is the truncated version of the original movie_title_details table."
   ]
  },
  {
   "cell_type": "code",
   "execution_count": null,
   "metadata": {},
   "outputs": [],
   "source": [
    "intruntimes = pd.to_numeric(movie_title_details['runtimeMinutes'], errors='coerce')\n",
    "plus20 = intruntimes>20\n",
    "movies = movie_title_details[plus20]"
   ]
  },
  {
   "cell_type": "markdown",
   "metadata": {},
   "source": [
    "Videogames credits were not considered."
   ]
  },
  {
   "cell_type": "code",
   "execution_count": null,
   "metadata": {},
   "outputs": [],
   "source": [
    "movies = movies[movies.titleType != 'videoGame']"
   ]
  },
  {
   "cell_type": "markdown",
   "metadata": {},
   "source": [
    "Titles rated adult were not considered."
   ]
  },
  {
   "cell_type": "code",
   "execution_count": null,
   "metadata": {},
   "outputs": [],
   "source": [
    "movies = movies[movies.isAdult != 1]"
   ]
  },
  {
   "cell_type": "markdown",
   "metadata": {},
   "source": [
    "The pruned movies table is shown below."
   ]
  },
  {
   "cell_type": "code",
   "execution_count": null,
   "metadata": {},
   "outputs": [],
   "source": [
    "movies.head()"
   ]
  },
  {
   "cell_type": "markdown",
   "metadata": {},
   "source": [
    "Finally, the columns that are not requisite for the purposes of the analysis are dropped as well. "
   ]
  },
  {
   "cell_type": "code",
   "execution_count": null,
   "metadata": {},
   "outputs": [],
   "source": [
    "movies = movies.drop(['genres','isAdult','originalTitle'], axis=1)"
   ]
  },
  {
   "cell_type": "markdown",
   "metadata": {},
   "source": [
    "The index is then reset using the ```reset_index()``` function."
   ]
  },
  {
   "cell_type": "code",
   "execution_count": null,
   "metadata": {},
   "outputs": [],
   "source": [
    "movies = movies.reset_index(drop=True)"
   ]
  },
  {
   "cell_type": "markdown",
   "metadata": {},
   "source": [
    "As seen below the number of movies considered drops down to just over a million."
   ]
  },
  {
   "cell_type": "code",
   "execution_count": null,
   "metadata": {},
   "outputs": [],
   "source": [
    "movies.shape"
   ]
  },
  {
   "cell_type": "markdown",
   "metadata": {},
   "source": [
    "##### Movie Crew details -- Since only actors and actresses are being considered, the rest of the categories in this table can be ignored."
   ]
  },
  {
   "cell_type": "markdown",
   "metadata": {},
   "source": [
    "The movie_crew_details tables' categories are shown below"
   ]
  },
  {
   "cell_type": "code",
   "execution_count": null,
   "metadata": {},
   "outputs": [],
   "source": [
    "np.unique(movie_crew_details.category)"
   ]
  },
  {
   "cell_type": "markdown",
   "metadata": {},
   "source": [
    "Creating a ```new dataframe crew``` that only has the enties related to actors and actresses:"
   ]
  },
  {
   "cell_type": "code",
   "execution_count": null,
   "metadata": {
    "scrolled": true
   },
   "outputs": [],
   "source": [
    "crew = movie_crew_details[(movie_crew_details.category == 'actor') | (movie_crew_details.category == 'actress')]"
   ]
  },
  {
   "cell_type": "code",
   "execution_count": null,
   "metadata": {},
   "outputs": [],
   "source": [
    "crew.shape"
   ]
  },
  {
   "cell_type": "markdown",
   "metadata": {},
   "source": [
    "We see that the number of records has dropped to 12.8 millions."
   ]
  },
  {
   "cell_type": "markdown",
   "metadata": {},
   "source": [
    "Again, we reset the index of the dataframe"
   ]
  },
  {
   "cell_type": "code",
   "execution_count": null,
   "metadata": {},
   "outputs": [],
   "source": [
    "crew = crew.reset_index(drop=True)"
   ]
  },
  {
   "cell_type": "markdown",
   "metadata": {},
   "source": [
    "We can verify the categories to be the ones needed"
   ]
  },
  {
   "cell_type": "code",
   "execution_count": null,
   "metadata": {},
   "outputs": [],
   "source": [
    "np.unique(crew.category)"
   ]
  },
  {
   "cell_type": "code",
   "execution_count": null,
   "metadata": {},
   "outputs": [],
   "source": [
    "crew.head()"
   ]
  },
  {
   "cell_type": "markdown",
   "metadata": {},
   "source": [
    "Since we don't need the job, characters and ordering tables we drop them from the crew dataframe."
   ]
  },
  {
   "cell_type": "code",
   "execution_count": null,
   "metadata": {},
   "outputs": [],
   "source": [
    "crew = crew.drop(['job','characters','ordering'], axis=1)"
   ]
  },
  {
   "cell_type": "code",
   "execution_count": null,
   "metadata": {},
   "outputs": [],
   "source": [
    "crew.head()"
   ]
  },
  {
   "cell_type": "markdown",
   "metadata": {},
   "source": [
    "#### Data Aggregation"
   ]
  },
  {
   "cell_type": "markdown",
   "metadata": {},
   "source": [
    "First, we create a new dataframe that effectively does an inner join of the movies and crew tables on the common ```tconst``` identifier that uniquely identifies every movie. This is done using the ```pandas merge``` function. The resulting table is stored in the ```overall dataframe```."
   ]
  },
  {
   "cell_type": "code",
   "execution_count": null,
   "metadata": {},
   "outputs": [],
   "source": [
    "overall = pd.merge(movies, crew, on='tconst')"
   ]
  },
  {
   "cell_type": "code",
   "execution_count": null,
   "metadata": {},
   "outputs": [],
   "source": [
    "overall.head()"
   ]
  },
  {
   "cell_type": "markdown",
   "metadata": {},
   "source": [
    "As we see above, each movie title is grouped along with the actors and actresses credited for it. FOr instance, the movie 'Miss Jerry' had an actress identified by nconst = 'nm0063086' and actor with nconst = 'nm0183823'.\n",
    "\n",
    "We now can drop all the non-requisite columns from the overall dataframe."
   ]
  },
  {
   "cell_type": "code",
   "execution_count": null,
   "metadata": {},
   "outputs": [],
   "source": [
    "overall = overall.drop(['titleType','runtimeMinutes','nconst','endYear','primaryTitle'], axis=1)"
   ]
  },
  {
   "cell_type": "markdown",
   "metadata": {},
   "source": [
    "Now, when we try to make sure that the 'startYear' columns have integer entries, we see that the .dtype command shows the columns as belonging to object type. This means that there are mixed datatype entries in this column (some as strings, some as integers)."
   ]
  },
  {
   "cell_type": "code",
   "execution_count": null,
   "metadata": {},
   "outputs": [],
   "source": [
    "overall.startYear.dtype"
   ]
  },
  {
   "cell_type": "markdown",
   "metadata": {},
   "source": [
    "So we convert all the entries to numeric which is easier for further analysis. But before we can do that we need to eliminate any missing entries which are marked as '\\N'."
   ]
  },
  {
   "cell_type": "code",
   "execution_count": null,
   "metadata": {},
   "outputs": [],
   "source": [
    "overall = overall[overall.startYear != '\\\\N']\n",
    "overall['startYear'] = pd.to_numeric(overall['startYear'])"
   ]
  },
  {
   "cell_type": "code",
   "execution_count": null,
   "metadata": {},
   "outputs": [],
   "source": [
    "overall.head()"
   ]
  },
  {
   "cell_type": "code",
   "execution_count": null,
   "metadata": {},
   "outputs": [],
   "source": [
    "overall.shape"
   ]
  },
  {
   "cell_type": "markdown",
   "metadata": {},
   "source": [
    "Thus, for our final analysis we have a dataframe of 3.3M entries. To split this and get separate table for actors and actresses we first create three empty dataframes."
   ]
  },
  {
   "cell_type": "code",
   "execution_count": null,
   "metadata": {},
   "outputs": [],
   "source": [
    "numbers = pd.DataFrame()\n",
    "males = pd.DataFrame()\n",
    "females = pd.DataFrame()"
   ]
  },
  {
   "cell_type": "markdown",
   "metadata": {},
   "source": [
    "Grouping by (year,category) will give us the tuples for each year and actor/actress combination. To do this, we use the ```pandas groupby``` function."
   ]
  },
  {
   "cell_type": "code",
   "execution_count": null,
   "metadata": {},
   "outputs": [],
   "source": [
    "numbers = overall.groupby(['startYear','category']).size().reset_index(name='counts')"
   ]
  },
  {
   "cell_type": "code",
   "execution_count": null,
   "metadata": {},
   "outputs": [],
   "source": [
    "numbers.head()"
   ]
  },
  {
   "cell_type": "markdown",
   "metadata": {},
   "source": [
    "Now we split this dataframe into two dataframes, one for actors, one for actresses."
   ]
  },
  {
   "cell_type": "code",
   "execution_count": null,
   "metadata": {},
   "outputs": [],
   "source": [
    "actors = numbers[numbers.category=='actor']\n",
    "actresses = numbers[numbers.category=='actress']"
   ]
  },
  {
   "cell_type": "code",
   "execution_count": null,
   "metadata": {},
   "outputs": [],
   "source": [
    "actors.head()"
   ]
  },
  {
   "cell_type": "code",
   "execution_count": null,
   "metadata": {},
   "outputs": [],
   "source": [
    "actresses.head()"
   ]
  },
  {
   "cell_type": "markdown",
   "metadata": {},
   "source": [
    "Since we no longer need the category column, we drop it and also reset the index on both these dataframes."
   ]
  },
  {
   "cell_type": "code",
   "execution_count": null,
   "metadata": {},
   "outputs": [],
   "source": [
    "actors = actors.drop('category', axis=1)\n",
    "actors = actors.reset_index(drop=True)\n",
    "\n",
    "actresses = actresses.drop('category', axis=1)\n",
    "actresses = actresses.reset_index(drop=True)"
   ]
  },
  {
   "cell_type": "code",
   "execution_count": null,
   "metadata": {},
   "outputs": [],
   "source": [
    "actors.head(10)"
   ]
  },
  {
   "cell_type": "code",
   "execution_count": null,
   "metadata": {},
   "outputs": [],
   "source": [
    "actresses.head(10)"
   ]
  },
  {
   "cell_type": "markdown",
   "metadata": {},
   "source": [
    "We see very low numbers for the years before 1910 and in some cases no entries for actresses in some years. Hence we eliminate those years and consider the numbers from 1910 and afterwards. After dropping the tables we also reste the index."
   ]
  },
  {
   "cell_type": "code",
   "execution_count": null,
   "metadata": {},
   "outputs": [],
   "source": [
    "actors = actors.drop([0,1,2,3,4,5,6,7])\n",
    "actresses = actresses.drop([0,1,2,3,4,5,6])\n",
    "\n",
    "actors = actors.reset_index(drop=True)\n",
    "actresses = actresses.reset_index(drop=True)"
   ]
  },
  {
   "cell_type": "code",
   "execution_count": null,
   "metadata": {},
   "outputs": [],
   "source": [
    "actors.tail()"
   ]
  },
  {
   "cell_type": "code",
   "execution_count": null,
   "metadata": {},
   "outputs": [],
   "source": [
    "actresses.tail()"
   ]
  },
  {
   "cell_type": "markdown",
   "metadata": {},
   "source": [
    "To not include future unreleases movies which are sometimes credited early on the IMDB website for marketing purposes, we will drop the entries for years after 2017."
   ]
  },
  {
   "cell_type": "code",
   "execution_count": null,
   "metadata": {},
   "outputs": [],
   "source": [
    "actors = actors.drop([108,109,110])\n",
    "actresses = actresses.drop([108,109,110])\n",
    "\n",
    "actors = actors.reset_index(drop=True)\n",
    "actresses = actresses.reset_index(drop=True)"
   ]
  },
  {
   "cell_type": "code",
   "execution_count": null,
   "metadata": {},
   "outputs": [],
   "source": [
    "actors.shape"
   ]
  },
  {
   "cell_type": "code",
   "execution_count": null,
   "metadata": {},
   "outputs": [],
   "source": [
    "actresses.shape"
   ]
  },
  {
   "cell_type": "markdown",
   "metadata": {},
   "source": [
    "Another important statistic we need to get better understanding of the data is the number of actors/actresses as a percentage of the total number credited. We will derive those in the following steps."
   ]
  },
  {
   "cell_type": "markdown",
   "metadata": {},
   "source": [
    "First, we create an empty dataframe percentages for this purpose. Then we add the years, number of actors and number of actresses as columns using the actors and actresses dataframes."
   ]
  },
  {
   "cell_type": "code",
   "execution_count": null,
   "metadata": {},
   "outputs": [],
   "source": [
    "percentages = pd.DataFrame()\n",
    "\n",
    "#getting years and adding them to the empty dataframe\n",
    "years = pd.DataFrame(actors.startYear)\n",
    "percentages = percentages.append(years)\n",
    "\n",
    "#creating dataframes of the actor and actress counts.\n",
    "num_actors = pd.DataFrame(actors.counts)\n",
    "num_actors.columns = ['num_actors']\n",
    "\n",
    "num_actresses = pd.DataFrame(actresses.counts)\n",
    "num_actresses.columns = ['num_actresses']\n",
    "\n",
    "#adding the dataframes created above to the percentages dataframe.\n",
    "percentages = percentages.join(num_actors)\n",
    "percentages = percentages.join(num_actresses)"
   ]
  },
  {
   "cell_type": "markdown",
   "metadata": {},
   "source": [
    "Using these columns, we add new columns that are the sum of the number of actors and actresses, percentage of actors and percentage of actresses."
   ]
  },
  {
   "cell_type": "code",
   "execution_count": null,
   "metadata": {},
   "outputs": [],
   "source": [
    "percentages['sum'] = percentages['num_actors']+percentages['num_actresses']\n",
    "percentages['actor_percentage'] = ((percentages['num_actors']/percentages['sum'])*100)\n",
    "percentages['actress_percentage'] = ((percentages['num_actresses']/percentages['sum'])*100)"
   ]
  },
  {
   "cell_type": "code",
   "execution_count": null,
   "metadata": {},
   "outputs": [],
   "source": [
    "percentages.head()"
   ]
  },
  {
   "cell_type": "markdown",
   "metadata": {},
   "source": [
    "#### Corporate Companies Diversity Data\n",
    "\n",
    "Physically collecting the publically released data by five major companies on their websites, I have created two dataframes to store these values. One of them stores the gloabal workforce diversity percentages, while the other stores only tech workforce diversity percentages. \n",
    "\n",
    "(Note: Amazon releases only global workforce statistics, hence tech workforce diversity percentages are not available)."
   ]
  },
  {
   "cell_type": "code",
   "execution_count": null,
   "metadata": {
    "scrolled": true
   },
   "outputs": [],
   "source": [
    "males_percent_global = [64,60,68,73.4,74.5]\n",
    "females_percent_global = [36,40,32,26.6,25.5]\n",
    "index = ['facebook', 'amazon', 'apple', 'microsoft', 'google']\n",
    "global_percent = pd.DataFrame({'men': males_percent_global,'women': females_percent_global}, \n",
    "                                   index=index)\n",
    "global_percent"
   ]
  },
  {
   "cell_type": "code",
   "execution_count": null,
   "metadata": {},
   "outputs": [],
   "source": [
    "males_percent_tech = [78,0,77,81.5,78.6]\n",
    "females_percent_tech = [22,0,23,18.5,21.4]\n",
    "tech_only_percent = pd.DataFrame({'men': males_percent_tech,'women': females_percent_tech},\n",
    "                                 index=index)\n",
    "tech_only_percent"
   ]
  },
  {
   "cell_type": "markdown",
   "metadata": {},
   "source": [
    "So now we have the number of actors and actresses credited in a movie from the year 1910 - 2017, along with their percentages as well the percentages showing diversity in tech companies. We can now visualize the results."
   ]
  },
  {
   "cell_type": "markdown",
   "metadata": {},
   "source": [
    "### Findings and Discussion"
   ]
  },
  {
   "cell_type": "markdown",
   "metadata": {},
   "source": [
    "In this section, we will use the data from previous sections, visualize it to find trends and answers to our questions and discuss what these findings mean."
   ]
  },
  {
   "cell_type": "markdown",
   "metadata": {},
   "source": [
    "For visualization purposes, we create an array containing the years being considered. This will be used as X-Axis for the graphs."
   ]
  },
  {
   "cell_type": "code",
   "execution_count": null,
   "metadata": {},
   "outputs": [],
   "source": [
    "years = np.arange(1910,2018,1)\n",
    "years = years.reshape(108,1)"
   ]
  },
  {
   "cell_type": "markdown",
   "metadata": {},
   "source": [
    "##### Visualization 1 - Time series graph of total number of actors vs actresses in credited movie roles."
   ]
  },
  {
   "cell_type": "code",
   "execution_count": null,
   "metadata": {},
   "outputs": [],
   "source": [
    "plt.figure(figsize=(20,10))\n",
    "\n",
    "plt.plot(years, actors.counts)\n",
    "plt.plot(years, actresses.counts)\n",
    "\n",
    "plt.legend(['actors', 'actresses'], loc='upper left')\n",
    "plt.title('Total number of Actors vs Actresses in Credited Movie Roles (1910-2017)', fontsize=20)\n",
    "plt.xlabel('year', fontsize=18)\n",
    "plt.ylabel('number of credited actors/actresses', fontsize=16)\n",
    "\n",
    "plt.show()"
   ]
  },
  {
   "cell_type": "markdown",
   "metadata": {},
   "source": [
    "###### Finding 1 : As expected, we see that the number of actors in the industry has always been higher than the number of actresses. The gap between the two looks to be highest just before 1960. While the situation looked to be improving for a while, the gap appears to have suddenly blown up in the last decade or so -- with a highly disproportionate number of actors dominating the scene as compared to actresses."
   ]
  },
  {
   "cell_type": "markdown",
   "metadata": {},
   "source": [
    "##### Visualization 2 - Time series graph of percentage of actors vs actresses in total credited movie roles per year."
   ]
  },
  {
   "cell_type": "code",
   "execution_count": null,
   "metadata": {},
   "outputs": [],
   "source": [
    "plt.figure(figsize=(20,10))\n",
    "\n",
    "plt.plot(years, percentages.actor_percentage)\n",
    "plt.plot(years, percentages.actress_percentage)\n",
    "\n",
    "plt.legend(['actors', 'actresses'], loc='upper left', fontsize=10)\n",
    "plt.title('Percentage of Actors vs Actresses in Total Credited Movie Roles per Year (1910-2017)', fontsize=20)\n",
    "plt.xlabel('year', fontsize=18)\n",
    "plt.ylabel('% of credited actors/actresses', fontsize=16)\n",
    "\n",
    "plt.grid()\n",
    "plt.show()"
   ]
  },
  {
   "cell_type": "markdown",
   "metadata": {},
   "source": [
    "###### Finding 2: Comparing the percentages gives a much cleare picture of how gender diversity has played out in the movies. The lowest percentage of actresses in the industry appears to be just before 1960 with a noticeable increase in the years following. There also appears to be a spike post 1990.\n",
    "\n",
    "Digging into this finding more, we realize that mid and late 1960s were a period of breakthroughs in women's rights and feminist movements not only in the USA but all over the world. In 1963, The Equal Pay Act was passed by Congress which gave equal wages for equal work, regardless of the race, color, religion, national origin or sex of the worker. In 1964, the Title VII of the Civil Rights Act was passed which prohibited employment discrimination on the basis of race, color, religion, national origin, or sex. These and many other laws passed in different countries, along with the feminist movement gathering momentum could have had an impact on the movie indutry resulting in more actresses on the screen in the post 1960s period."
   ]
  },
  {
   "cell_type": "markdown",
   "metadata": {},
   "source": [
    "##### Visualization 3 - Gender diversity percentages, movies vs. tech firms (All time till 2017)."
   ]
  },
  {
   "cell_type": "markdown",
   "metadata": {},
   "source": [
    "Taking the gender diversity percentages from 1910 to 2017 from movies and comparing them to the statistics released by companies (which were initially saved in the ```global_percent``` dataframe.\n",
    "\n",
    "Note: The reason all the years are being compared here is that when companies release their diversity statistics, it is not only for the number of hires they make in that year. It is the total diversity as of the current year, which includes all the people working for them irrespective of when they were hired. And since yearly percentages in movies would only reflect actors/actresses 'hired' in that particular, it would be a fair comparison only if all the years statistics were taken into account."
   ]
  },
  {
   "cell_type": "markdown",
   "metadata": {},
   "source": [
    "To get the total percentages, we use the percentages dataframe and calculate the totals:"
   ]
  },
  {
   "cell_type": "code",
   "execution_count": null,
   "metadata": {},
   "outputs": [],
   "source": [
    "percentages.head()"
   ]
  },
  {
   "cell_type": "code",
   "execution_count": null,
   "metadata": {},
   "outputs": [],
   "source": [
    "num_actors_total = np.sum(percentages.num_actors)\n",
    "num_actresses_total = np.sum(percentages.num_actresses)\n",
    "total_all = num_actors_total+num_actresses_total"
   ]
  },
  {
   "cell_type": "markdown",
   "metadata": {},
   "source": [
    "Now this can be used to calculate percentage:"
   ]
  },
  {
   "cell_type": "code",
   "execution_count": null,
   "metadata": {},
   "outputs": [],
   "source": [
    "males_percent_2017 = (num_actors_total/total_all)*100\n",
    "females_percent_2017 = (num_actresses_total/total_all)*100"
   ]
  },
  {
   "cell_type": "markdown",
   "metadata": {},
   "source": [
    "We take the percentages from above and add them to the ```global_percent``` dataframe."
   ]
  },
  {
   "cell_type": "code",
   "execution_count": null,
   "metadata": {},
   "outputs": [],
   "source": [
    "global_percent.loc['movies'] = [males_percent_2017,females_percent_2017]"
   ]
  },
  {
   "cell_type": "code",
   "execution_count": null,
   "metadata": {},
   "outputs": [],
   "source": [
    "ax = global_percent.plot(kind='bar', title =\"Gender Diversity in Movies vs. Tech companies (All time till 2017)\", \n",
    "             figsize=(20, 10), legend=True, rot=0, fontsize=10)\n",
    "ax.set_ylabel(\"percentage\", fontsize=12)\n",
    "plt.grid()\n",
    "plt.show()"
   ]
  },
  {
   "cell_type": "markdown",
   "metadata": {},
   "source": [
    "###### Finding 3 - We see that by comparing 2017 alone, gender diversity in movies while not very high was still highly comparable to that of Amazon while significantly better than Facebook, Apple, Microsoft and Google. This was a little suprising for me because I would have expected movies to do a little worse than the tech firms, not better than most of them.\n",
    "\n",
    "But this comes with the caveat that though the diversity numbers released by companies include the entire workforce from the day they were founded, none of the companies were founded before 1975 (Microsoft is the oldest while the more recent ones like Google and Facebook were founded in the 2000s). We have seen the world and employment trends change so comparing the movies with stats from years as back as 1910 which was avery different time seems a little unfair. Which is why in the next visualization we will use movie data for movies only after 1975."
   ]
  },
  {
   "cell_type": "markdown",
   "metadata": {},
   "source": [
    "##### Visualization 4 - Gender diversity percentages, movies vs. tech firms (1975 - 2017)."
   ]
  },
  {
   "cell_type": "markdown",
   "metadata": {},
   "source": [
    "Here, we will be doing the same analysis as above but instead of using data from 1910 - 2017, we will only be using data from 1975 since that is when the first of the tech companies in question was founded. It must be noted that there is a little leeway to companies founded later in this comparison."
   ]
  },
  {
   "cell_type": "markdown",
   "metadata": {},
   "source": [
    "We first take a subset of the percentages dataframe to get data for years after 1975."
   ]
  },
  {
   "cell_type": "code",
   "execution_count": null,
   "metadata": {},
   "outputs": [],
   "source": [
    "percentages_75 = percentages[percentages.startYear > 1974]\n",
    "percentages_75 = percentages_75.reset_index(drop=True)\n",
    "percentages_75.head()"
   ]
  },
  {
   "cell_type": "markdown",
   "metadata": {},
   "source": [
    "Similar to the previous visualization, we calculate the total statistics, but this time from the ```percentages_75``` dataframe."
   ]
  },
  {
   "cell_type": "code",
   "execution_count": null,
   "metadata": {},
   "outputs": [],
   "source": [
    "num_actors_total_75 = np.sum(percentages_75.num_actors)\n",
    "num_actresses_total_75 = np.sum(percentages_75.num_actresses)\n",
    "total_all_75 = num_actors_total_75+num_actresses_total_75"
   ]
  },
  {
   "cell_type": "markdown",
   "metadata": {},
   "source": [
    "Now this can be used to calculate percentage:"
   ]
  },
  {
   "cell_type": "code",
   "execution_count": null,
   "metadata": {},
   "outputs": [],
   "source": [
    "males_percent_2017_75 = (num_actors_total_75/total_all_75)*100\n",
    "females_percent_2017_75 = (num_actresses_total_75/total_all_75)*100"
   ]
  },
  {
   "cell_type": "markdown",
   "metadata": {},
   "source": [
    "We take the percentages from above and add them to the ```global_percent``` dataframe."
   ]
  },
  {
   "cell_type": "code",
   "execution_count": null,
   "metadata": {},
   "outputs": [],
   "source": [
    "global_percent.loc['movies'] = [males_percent_2017_75,females_percent_2017_75]"
   ]
  },
  {
   "cell_type": "code",
   "execution_count": null,
   "metadata": {},
   "outputs": [],
   "source": [
    "ax = global_percent.plot(kind='bar', title =\"Gender Diversity in Movies vs. Tech companies (1975 - 2017)\", \n",
    "             figsize=(20, 10), legend=True, rot=0, fontsize=10)\n",
    "ax.set_ylabel(\"percentage\", fontsize=12)\n",
    "plt.grid()\n",
    "plt.show()"
   ]
  },
  {
   "cell_type": "markdown",
   "metadata": {},
   "source": [
    "###### Finding 4 - There is not any drastic difference between the gender diversity percentages in movies when comparing the post 1975 period to the overall time period from 1910. The equation remains the same with Amazon showing slightly better diversity statistics while the others show  lower percentages of diversity when compared to movies."
   ]
  },
  {
   "cell_type": "markdown",
   "metadata": {},
   "source": [
    "##### Visualization 5 - Comparing movies to only tech-force diversity (1975-2017)"
   ]
  },
  {
   "cell_type": "markdown",
   "metadata": {},
   "source": [
    "Movies have a huge number of people working to bring the end product to the public. But perhaps the most important, most highly compensated section of the movies workforce is the actors and actresses. Similarly, the most important and highly compensated section of the tech industry are the tech workers. Apart from Amazon, all the other companies considered in this analysis release figures showing diversity in tech as opposed to global diversity. How will these statistics compare against each other?"
   ]
  },
  {
   "cell_type": "markdown",
   "metadata": {},
   "source": [
    "Since we have already calculated the percentages for movies, we just append them to the ```tech_only_percent``` dataframe which has the values for the companies diversity in tech."
   ]
  },
  {
   "cell_type": "code",
   "execution_count": null,
   "metadata": {},
   "outputs": [],
   "source": [
    "tech_only_percent.loc['movies'] = [males_percent_2017_75,females_percent_2017_75]"
   ]
  },
  {
   "cell_type": "code",
   "execution_count": null,
   "metadata": {},
   "outputs": [],
   "source": [
    "ax = tech_only_percent.plot(kind='bar', \n",
    "                            title =\"Gender Diversity in Movies vs. Tech companies (Tech Workers only, 1975 - 2017)\", \n",
    "                            figsize=(20, 10), \n",
    "                            legend=True, \n",
    "                            rot=0, \n",
    "                            fontsize=10)\n",
    "ax.set_ylabel(\"percentage\", \n",
    "              fontsize=12)\n",
    "plt.grid()\n",
    "plt.show()"
   ]
  },
  {
   "cell_type": "markdown",
   "metadata": {},
   "source": [
    "###### Finding 5 - As seen above, if we compare gender diversity in movies in terms of actors/actresses to only tech force diversity in the tech industry then the movies outrank them all. Movies have around a 60/40 split leaning more towards actors, but the closest any tech firm comes is Apple with a mere 23% of their tech force comprised of females."
   ]
  },
  {
   "cell_type": "markdown",
   "metadata": {},
   "source": [
    "### Limitations and Future Work"
   ]
  },
  {
   "cell_type": "markdown",
   "metadata": {},
   "source": [
    "An obvious limitation that was stated at the beginning is that this is a very limited scope analysis which compares only the numbers of employed actors/actresses with the number of male/female employees in tech companies. For a more comprehensive analysis, data like the gender information of non-acting members of the movie industry, gender information for non-binary people would help enrich the quality of this analysis.\n",
    "\n",
    "If this information could be obtained from the companies and/or the movie industry then this analysis could be extended and built on for better understanding the diversity in both the industries.\n",
    "\n",
    "Another limitation of the analysis is equal weight for every actor/actress irrespective of the length of their roles in a acting credit. While this is a little negated by the equal weight that companies give to a summer intern and a corporate head, it is true that in some cases simply more actresses on a screen would not be indicative of a more gender diverse environment. It would be complicated but combining movies scripts and the character names given in the IMDB dataset, we can estimate the number of lines spoken by a character and estimate that as a percentage of the whole script. This is also a possible future work on this analysis."
   ]
  },
  {
   "cell_type": "markdown",
   "metadata": {},
   "source": [
    "### Conclusion"
   ]
  },
  {
   "cell_type": "markdown",
   "metadata": {},
   "source": [
    "The initial research question was how does gender diversity in movies stack up against diversity in the top tech companies. \n",
    "\n",
    "After this analysis, the first thing I wish to conclude is that it's tough to compare the two sectors, specially without more information of people behind the camera. Actors/actresses are a very small percentage of the movie industry and might not be representative of the industry at large.\n",
    "\n",
    "But if we consider only actors/actresses, there seems to be more diversity in the movies than tech companies specially when comparing only the tech working force.\n",
    "\n",
    "I hope this analysis has helped you see how data science skills can be used to explore a very human-centered topic of gender diversity which is becoming more and more important over the years. Humans have existed for hundreds of thousands of years and women got basic rights like the right to vote just over a hundred years ago. Analytics like these should serve as a reminder of how far we have to go before we achieve true equality."
   ]
  },
  {
   "cell_type": "markdown",
   "metadata": {},
   "source": [
    "### References\n",
    "\n",
    "A list of references I used while working on this project:"
   ]
  },
  {
   "cell_type": "markdown",
   "metadata": {},
   "source": [
    "[Facebook's diversity report](https://newsroom.fb.com/news/2018/07/diversity-report/)\n",
    "\n",
    "[Apple's](https://www.apple.com/diversity/)\n",
    "\n",
    "[Google's diversity report](https://diversity.google/annual-report/)\n",
    "\n",
    "[Microsoft's diversity report](https://www.microsoft.com/en-us/diversity/inside-microsoft/default.aspx)\n",
    "\n",
    "[Amazon's diversity report](https://www.amazon.com/b?ie=UTF8&node=10080092011)\n",
    "\n",
    "[IMDB data details](https://www.imdb.com/interfaces/)\n",
    "\n",
    "[IMDB data download](https://datasets.imdbws.com/)\n",
    "\n",
    "https://womenintvfilm.sdsu.edu/files/2014-15_Boxed_In_Report.pdf\n",
    "\n",
    "https://informationisbeautiful.net/visualizations/diversity-in-tech/\n",
    "\n",
    "http://poly-graph.co/bechdel/\n",
    "\n",
    "https://www.imdb.com/interfaces/\n",
    "\n",
    "https://datasets.imdbws.com/\n",
    "\n",
    "https://help.imdb.com/article/contribution/filmography-credits/cast-acting-creditguidelines/GH3JZC74FVYKKFMD#gender\n",
    "\n",
    "https://github.com/adam-p/markdown-here/wiki/Markdown-Cheatsheet\n",
    "\n",
    "https://pandas.pydata.org/pandas-docs/stable/generated/pandas.read_table.html\n"
   ]
  },
  {
   "cell_type": "code",
   "execution_count": null,
   "metadata": {},
   "outputs": [],
   "source": []
  }
 ],
 "metadata": {
  "kernelspec": {
   "display_name": "Python 3",
   "language": "python",
   "name": "python3"
  },
  "language_info": {
   "codemirror_mode": {
    "name": "ipython",
    "version": 3
   },
   "file_extension": ".py",
   "mimetype": "text/x-python",
   "name": "python",
   "nbconvert_exporter": "python",
   "pygments_lexer": "ipython3",
   "version": "3.6.5"
  }
 },
 "nbformat": 4,
 "nbformat_minor": 2
}
